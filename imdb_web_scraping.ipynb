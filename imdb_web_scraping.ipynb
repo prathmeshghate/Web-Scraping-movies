{
 "cells": [
  {
   "cell_type": "code",
   "execution_count": 6,
   "metadata": {},
   "outputs": [],
   "source": [
    "import requests\n",
    "import bs4"
   ]
  },
  {
   "cell_type": "code",
   "execution_count": 101,
   "metadata": {},
   "outputs": [
    {
     "data": {
      "text/plain": [
       "<div class=\"lister-item-content\">\n",
       "<h3 class=\"lister-item-header\">\n",
       "<span class=\"lister-item-index unbold text-primary\">1.</span>\n",
       "<a href=\"/title/tt10752004/\">Love Hard</a>\n",
       "<span class=\"lister-item-year text-muted unbold\">(2021)</span>\n",
       "</h3>\n",
       "<p class=\"text-muted\">\n",
       "<span class=\"certificate\">13</span>\n",
       "<span class=\"ghost\">|</span>\n",
       "<span class=\"runtime\">104 min</span>\n",
       "<span class=\"ghost\">|</span>\n",
       "<span class=\"genre\">\n",
       "Comedy, Romance            </span>\n",
       "</p>\n",
       "<div class=\"ratings-bar\">\n",
       "<div class=\"inline-block ratings-imdb-rating\" data-value=\"6.4\" name=\"ir\">\n",
       "<span class=\"global-sprite rating-star imdb-rating\"></span>\n",
       "<strong>6.4</strong>\n",
       "</div>\n",
       "<div class=\"inline-block ratings-user-rating\">\n",
       "<span class=\"userRatingValue\" data-tconst=\"tt10752004\" id=\"urv_tt10752004\">\n",
       "<span class=\"global-sprite rating-star no-rating\"></span>\n",
       "<span class=\"rate\" data-no-rating=\"Rate this\" data-value=\"0\" name=\"ur\">Rate this</span>\n",
       "</span>\n",
       "<div class=\"starBarWidget\" id=\"sb_tt10752004\">\n",
       "<div class=\"rating rating-list\" data-csrf-token=\"\" data-ga-identifier=\"\" data-starbar-class=\"rating-list\" data-user=\"\" id=\"tt10752004|imdb|6.4|6.4|adv_li_tt||advsearch|title\" itemprop=\"aggregateRating\" itemscope=\"\" itemtype=\"http://schema.org/AggregateRating\" title=\"Users rated this 6.4/10 (20,791 votes) - click stars to rate\">\n",
       "<meta content=\"6.4\" itemprop=\"ratingValue\"/>\n",
       "<meta content=\"10\" itemprop=\"bestRating\"/>\n",
       "<meta content=\"20791\" itemprop=\"ratingCount\"/>\n",
       "<span class=\"rating-bg\"> </span>\n",
       "<span class=\"rating-imdb\" style=\"width: 89.6px\"> </span>\n",
       "<span class=\"rating-stars\">\n",
       "<a href=\"/register/login?why=vote\" rel=\"nofollow\" title=\"Register or login to rate this title\"><span>1</span></a>\n",
       "<a href=\"/register/login?why=vote\" rel=\"nofollow\" title=\"Register or login to rate this title\"><span>2</span></a>\n",
       "<a href=\"/register/login?why=vote\" rel=\"nofollow\" title=\"Register or login to rate this title\"><span>3</span></a>\n",
       "<a href=\"/register/login?why=vote\" rel=\"nofollow\" title=\"Register or login to rate this title\"><span>4</span></a>\n",
       "<a href=\"/register/login?why=vote\" rel=\"nofollow\" title=\"Register or login to rate this title\"><span>5</span></a>\n",
       "<a href=\"/register/login?why=vote\" rel=\"nofollow\" title=\"Register or login to rate this title\"><span>6</span></a>\n",
       "<a href=\"/register/login?why=vote\" rel=\"nofollow\" title=\"Register or login to rate this title\"><span>7</span></a>\n",
       "<a href=\"/register/login?why=vote\" rel=\"nofollow\" title=\"Register or login to rate this title\"><span>8</span></a>\n",
       "<a href=\"/register/login?why=vote\" rel=\"nofollow\" title=\"Register or login to rate this title\"><span>9</span></a>\n",
       "<a href=\"/register/login?why=vote\" rel=\"nofollow\" title=\"Register or login to rate this title\"><span>10</span></a>\n",
       "</span>\n",
       "<span class=\"rating-rating\"><span class=\"value\">6.4</span><span class=\"grey\">/</span><span class=\"grey\">10</span></span>\n",
       "<span class=\"rating-cancel\"><a href=\"/title/tt10752004/vote\" rel=\"nofollow\" title=\"Delete\"><span>X</span></a></span>\n",
       " </div>\n",
       "</div>\n",
       "</div>\n",
       "<div class=\"inline-block ratings-metascore\">\n",
       "<span class=\"metascore mixed\">42        </span>\n",
       "        Metascore\n",
       "            </div>\n",
       "</div>\n",
       "<p class=\"text-muted\">\n",
       "An LA girl, unlucky in love, falls for an East Coast guy on a dating app and decides to surprise him for the holidays, only to discover that she's been catfished. This lighthearted romantic comedy chronicles her attempt to reel in love.</p>\n",
       "<p class=\"\">\n",
       "    Director:\n",
       "<a href=\"/name/nm2076099/\">Hernan Jimenez</a>\n",
       "<span class=\"ghost\">|</span> \n",
       "    Stars:\n",
       "<a href=\"/name/nm2400045/\">Nina Dobrev</a>, \n",
       "<a href=\"/name/nm4497202/\">Jimmy O. Yang</a>, \n",
       "<a href=\"/name/nm6651162/\">Darren Barnet</a>, \n",
       "<a href=\"/name/nm0756839/\">James Saito</a>\n",
       "</p>\n",
       "<p class=\"sort-num_votes-visible\">\n",
       "<span class=\"text-muted\">Votes:</span>\n",
       "<span data-value=\"20791\" name=\"nv\">20,791</span>\n",
       "</p>\n",
       "</div>"
      ]
     },
     "execution_count": 101,
     "metadata": {},
     "output_type": "execute_result"
    }
   ],
   "source": [
    "link=requests.get('https://www.imdb.com/search/title/?genres=comedy,romance&explore=title_type,genres')\n",
    "\n",
    "soup=bs4.BeautifulSoup(link.text,'lxml')\n",
    "\n",
    "header_container=soup.select('.lister-item-content')\n",
    "\n",
    "header_container[0]\n",
    "\n",
    "\n"
   ]
  },
  {
   "cell_type": "markdown",
   "metadata": {},
   "source": [
    "#Rating Trail\n"
   ]
  },
  {
   "cell_type": "code",
   "execution_count": 8,
   "metadata": {},
   "outputs": [
    {
     "data": {
      "text/plain": [
       "'6.4'"
      ]
     },
     "execution_count": 8,
     "metadata": {},
     "output_type": "execute_result"
    }
   ],
   "source": [
    "# One Way\n",
    "\n",
    "# rating=header_container.find('div',class_='inline-block ratings-imdb-rating')\n",
    "# rating['data-value']\n",
    "\n",
    "# Second way\n",
    "# pic_rate=soup.select('.ratings-bar')[0]\n",
    "# first_index=pic_rate.find('div',class_='inline-block ratings-imdb-rating')\n",
    "# first_index['data-value']\n",
    "\n",
    "# Third Way\n",
    "\n",
    "c=header_container.select('.ratings-bar')[0]\n",
    "c.div['data-value']"
   ]
  },
  {
   "cell_type": "markdown",
   "metadata": {},
   "source": [
    "#Director Trial\n",
    "#Star Trail"
   ]
  },
  {
   "cell_type": "code",
   "execution_count": 100,
   "metadata": {},
   "outputs": [
    {
     "name": "stdout",
     "output_type": "stream",
     "text": [
      ",,,,,ssaaww.....banana\n"
     ]
    }
   ],
   "source": [
    "direct=[]\n",
    "for i in range(0,50):\n",
    "    test_director=header_container[i].find('p',class_='')\n",
    "    string=test_director.getText()\n",
    "    string=string.replace('\\n','').lstrip()\n",
    "    \n",
    "\n",
    "    try:\n",
    "        seperation_index=string.index('|')\n",
    "        Director=string[9:seperation_index]\n",
    "        direct.append(Director)\n",
    "    except:\n",
    "        direct.append('nan')"
   ]
  },
  {
   "cell_type": "code",
   "execution_count": 187,
   "metadata": {},
   "outputs": [
    {
     "name": "stdout",
     "output_type": "stream",
     "text": [
      "Nina Dobrev, Jimmy O. Yang, Darren Barnet, James Saito\n",
      "Nick Kroll, John Mulaney, Jessi Klein, Jason Mantzoukas\n",
      "Matthias Schweighöfer, Nathalie Emmanuel, Ruby O. Fee, Stuart Martin\n",
      "Benicio Del Toro, Adrien Brody, Tilda Swinton, Léa Seydoux\n",
      "Nathan Fillion, Stana Katic, Susan Sullivan, Jon Huertas\n",
      "Jennifer Aniston, Courteney Cox, Lisa Kudrow, Matt LeBlanc\n",
      "Johnny Galecki, Jim Parsons, Kaley Cuoco, Simon Helberg\n",
      "Sanya Malhotra, Abhimanyu Dasani, Shivkumar Subramaniam, Nivedita Bhargava\n",
      "Anna Kendrick, Zoe Chao, Peter Vack, Sasha Compère\n",
      "Ed O'Neill, Sofía Vergara, Julie Bowen, Ty Burrell\n",
      "Lyndsy Fonseca, Chandler Massey, Erika Slezak, Eric Freeman\n",
      "Josh Radnor, Jason Segel, Cobie Smulders, Neil Patrick Harris\n",
      "Bradley Cooper, Maya Rudolph, Skyler Gisondo, Sean Penn\n",
      "Emily Deschanel, David Boreanaz, Michaela Conlin, T.J. Thyne\n",
      "Milo Ventimiglia, Mandy Moore, Sterling K. Brown, Chrissy Metz\n",
      "Hailee Steinfeld, Adrian Enscoe, Anna Baryshnikov, Jane Krakowski\n",
      "Jon Cryer, Ashton Kutcher, Angus T. Jones, Conchata Ferrell\n",
      "Allison Janney, Anna Faris, Mimi Kennedy, Beth Hall\n",
      "Sarah Jessica Parker, Kim Cattrall, Kristin Davis, Cynthia Nixon\n",
      "Kate Winslet, Cameron Diaz, Jude Law, Jack Black\n",
      "Hugh Grant, Martine McCutcheon, Liam Neeson, Laura Linney\n",
      "Constance Wu, Henry Golding, Michelle Yeoh, Gemma Chan\n",
      "David Giuntoli, Romany Malco, Allison Miller, Christina Moses\n",
      "Caroline Rhea, Kaitlin Doubleday, Steve Lund, Paula Shaw\n",
      "Issa Rae, Yvonne Orji, Jay Ellis, Natasha Rothwell\n",
      "Kristen Bell, William Jackson Harper, Jameela Jamil, D'Arcy Carden\n",
      "Sarah Jessica Parker, Kristin Davis, Karen Pittman, Nicole Ari Parker\n",
      "Jake Gyllenhaal, Anne Hathaway, Judy Greer, Oliver Platt\n",
      "Alicia Silverstone, Stacey Dash, Brittany Murphy, Paul Rudd\n",
      "Sarah Shahi, Mike Vogel, Adam Demos, Margaret Odette\n",
      "Teri Hatcher, Felicity Huffman, Marcia Cross, Eva Longoria\n",
      "Camila Cabello, Billy Porter, Nicholas Galitzine, Idina Menzel\n",
      "Steve Carell, Ryan Gosling, Julianne Moore, Emma Stone\n",
      "Heath Ledger, Julia Stiles, Joseph Gordon-Levitt, Larisa Oleynik\n",
      "Madison Ingoldsby, Emma Thompson, Boris Isakovic, Lucy Miller\n",
      "Michael Cera, Mary Elizabeth Winstead, Kieran Culkin, Anna Kendrick\n",
      "Anne Hathaway, Tina Fey, Andy Garcia, Dev Patel\n",
      "Mischa Barton, Adam Brody, Peter Gallagher, Kelly Rowan\n",
      "Amy Adams, Susan Sarandon, James Marsden, Patrick Dempsey\n",
      "Jared Gilman, Kara Hayward, Bruce Willis, Bill Murray\n",
      "Emma Roberts, Luke Bracey, Kristin Chenoweth, Frances Fisher\n",
      "Will Ferrell, James Caan, Bob Newhart, Zooey Deschanel\n",
      "Ciara Baxendale, Dan Cohen, Jodie Comer, Darren Evans\n",
      "Jennifer Garner, Mark Ruffalo, Judy Greer, Andy Serkis\n",
      "Keira Knightley, Mark Ruffalo, Adam Levine, Hailee Steinfeld\n",
      "Shin Min-a, Kim Seon-Ho, Lee Bong-ryun, Kim Young-ok\n",
      "Jonny Lee Miller, Angelina Jolie, Jesse Bradford, Matthew Lillard\n",
      "Kate Walsh, Paul Adelstein, KaDee Strickland, Taye Diggs\n",
      "Renate Reinsve, Anders Danielsen Lie, Mia McGovern Zaini, Maria Grazia Di Meo\n",
      "Kristen Wiig, Maya Rudolph, Rose Byrne, Terry Crews\n"
     ]
    }
   ],
   "source": [
    "starsy=[]\n",
    "for i in range(0,50):\n",
    "    Star=header_container[i].find('p',class_='')\n",
    "    strings=Star.getText()\n",
    "    strings=strings.replace('\\n','').lstrip()\n",
    "\n",
    "    try:\n",
    "        star_index=strings.index('Stars')\n",
    "        star=strings[star_index+6:]\n",
    "        starsy.append(star)\n",
    "    except:\n",
    "        starsy.append('nan')\n",
    "\n",
    "    \n"
   ]
  },
  {
   "cell_type": "code",
   "execution_count": 184,
   "metadata": {},
   "outputs": [
    {
     "name": "stdout",
     "output_type": "stream",
     "text": [
      "Nina Dobrev, Jimmy O. Yang, Darren Barnet, James Saito\n"
     ]
    }
   ],
   "source": [
    "Stars=header_container[0].find('p',class_='')\n",
    "strings=Stars.getText()\n",
    "strings=strings.replace('\\n','').lstrip()\n",
    "sstar_index=strings.index('Stars')\n",
    "star=strings[35:]\n",
    "print(star)"
   ]
  },
  {
   "cell_type": "markdown",
   "metadata": {},
   "source": [
    "years"
   ]
  },
  {
   "cell_type": "code",
   "execution_count": 207,
   "metadata": {},
   "outputs": [
    {
     "name": "stdout",
     "output_type": "stream",
     "text": [
      "2021\n",
      "2017– \n",
      "2021\n",
      "2021\n",
      "2009–2016\n",
      "1994–2004\n",
      "2007–2019\n",
      "2021\n",
      "2020– \n",
      "2009–2020\n",
      "2021\n",
      "2005–2014\n",
      "2021\n",
      "2005–2017\n",
      "2016–2022\n",
      "2019–2021\n",
      "2003–2015\n",
      "2013–2021\n",
      "1998–2004\n",
      "2006\n",
      "2003\n",
      "2018\n",
      "2018– \n",
      "2021 TV Movie\n",
      "2016–2021\n",
      "2016–2020\n",
      "2021– \n",
      "2010\n",
      "1995\n",
      "2021– \n",
      "2004–2012\n",
      "I) (2021\n",
      "2011\n",
      "1999\n",
      "2019\n",
      "2010\n",
      "2019– \n",
      "2003–2007\n",
      "2007\n",
      "2012\n",
      "2020\n",
      "2003\n",
      "2013–2015\n",
      "2004\n",
      "II) (2013\n",
      "2021– \n",
      "1995\n",
      "2007–2013\n",
      "2021\n",
      "I) (2011\n"
     ]
    }
   ],
   "source": [
    "for i in range(0,50):\n",
    "\n",
    "    year=header_container[i].find('span',class_='lister-item-year text-muted unbold')\n",
    "    test_year=year.getText()\n",
    "    test_year=test_year.lstrip('(-').rstrip(')-')\n",
    "    print(test_year)"
   ]
  },
  {
   "cell_type": "markdown",
   "metadata": {},
   "source": [
    "Genre"
   ]
  },
  {
   "cell_type": "code",
   "execution_count": 214,
   "metadata": {},
   "outputs": [
    {
     "data": {
      "text/plain": [
       "'Comedy, Romance'"
      ]
     },
     "execution_count": 214,
     "metadata": {},
     "output_type": "execute_result"
    }
   ],
   "source": [
    "genres=header_container[0].find('span',class_='genre')\n",
    "genre=genres.getText()\n",
    "genre=genre.replace('\\n','').rstrip()\n",
    "genre"
   ]
  },
  {
   "cell_type": "markdown",
   "metadata": {},
   "source": [
    "Actual Code"
   ]
  },
  {
   "cell_type": "code",
   "execution_count": 208,
   "metadata": {},
   "outputs": [],
   "source": [
    "import requests\n",
    "import bs4\n",
    "\n",
    "link=requests.get('https://www.imdb.com/search/title/?genres=comedy,romance&explore=title_type,genres')\n",
    "\n",
    "soup=bs4.BeautifulSoup(link.text,'lxml')\n",
    "\n",
    "ratings=[]\n",
    "Title=[]\n",
    "Directors=[]\n",
    "stars=[]\n",
    "Years=[]\n",
    "\n",
    "Titles_soup=soup.select('.lister-item-content')\n",
    "for title in Titles_soup:\n",
    "    Title.append(title.a.getText()) \n",
    "\n",
    "rate_soup=soup.select('.ratings-bar')\n",
    "\n",
    "for i in rate_soup :\n",
    "    ratings.append(i.div['data-value'])\n",
    "\n",
    "for i in range(0,50):\n",
    "    test_director=header_container[i].find('p',class_='')\n",
    "    string=test_director.getText()\n",
    "    string=string.replace('\\n','').lstrip()\n",
    "    \n",
    "\n",
    "    try:\n",
    "        seperation_index=string.index('|')\n",
    "        Director=string[9:seperation_index]\n",
    "        #print(Director)\n",
    "        Directors.append(Director)\n",
    "    except:\n",
    "        Directors.append('nan')\n",
    "\n",
    "for i in range(0,50):\n",
    "    Star=header_container[i].find('p',class_='')\n",
    "    strings=Star.getText()\n",
    "    strings=strings.replace('\\n','').lstrip()\n",
    "\n",
    "    try:\n",
    "        star_index=strings.index('Stars')\n",
    "        star=strings[star_index+6:]\n",
    "        stars.append(star)\n",
    "    except:\n",
    "        stars.append('nan')\n",
    "\n",
    "for i in range(0,50):\n",
    "\n",
    "    year=header_container[i].find('span',class_='lister-item-year text-muted unbold')\n",
    "    test_year=year.getText()\n",
    "    test_year=test_year.lstrip('(-').rstrip(')-')\n",
    "    Years.append(test_year)"
   ]
  },
  {
   "cell_type": "code",
   "execution_count": null,
   "metadata": {},
   "outputs": [],
   "source": []
  }
 ],
 "metadata": {
  "interpreter": {
   "hash": "a7d8fe62fb4184f1e95077c26f1e772eee44bb410b5f17cbfae9daffd5dbf7a7"
  },
  "kernelspec": {
   "display_name": "Python 3.9.2 64-bit",
   "language": "python",
   "name": "python3"
  },
  "language_info": {
   "codemirror_mode": {
    "name": "ipython",
    "version": 3
   },
   "file_extension": ".py",
   "mimetype": "text/x-python",
   "name": "python",
   "nbconvert_exporter": "python",
   "pygments_lexer": "ipython3",
   "version": "3.9.2"
  },
  "orig_nbformat": 4
 },
 "nbformat": 4,
 "nbformat_minor": 2
}
